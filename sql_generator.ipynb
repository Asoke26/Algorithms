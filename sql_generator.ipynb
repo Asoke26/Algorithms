{
  "nbformat": 4,
  "nbformat_minor": 0,
  "metadata": {
    "colab": {
      "name": "sql_generator.ipynb",
      "provenance": [],
      "collapsed_sections": [],
      "include_colab_link": true
    },
    "kernelspec": {
      "name": "python3",
      "display_name": "Python 3"
    }
  },
  "cells": [
    {
      "cell_type": "markdown",
      "metadata": {
        "id": "view-in-github",
        "colab_type": "text"
      },
      "source": [
        "<a href=\"https://colab.research.google.com/github/Asoke26/Algorithms/blob/master/sql_generator.ipynb\" target=\"_parent\"><img src=\"https://colab.research.google.com/assets/colab-badge.svg\" alt=\"Open In Colab\"/></a>"
      ]
    },
    {
      "cell_type": "markdown",
      "metadata": {
        "id": "vKl3y3JvRPkD",
        "colab_type": "text"
      },
      "source": [
        "\n",
        "\n",
        "*   Generate random INSERT statements to populate an empty database\n",
        "*   Generate SELECT queries and their cardinalities for a given population of tuples\n",
        "<center>\n",
        "<img src=\"https://raw.githubusercontent.com/Btsan/personal/master/Picture1.png\">\n",
        "<br>\n",
        "<b>Figure: </b>\n",
        "<i>The database schema for populating. Table_A contains PersonID, Birthyear, and Region attributes. Table_B contains PersonID, Name, and Age attributes.</i>\n",
        "</center>"
      ]
    },
    {
      "cell_type": "code",
      "metadata": {
        "id": "vGNQU8NWJTys",
        "colab_type": "code",
        "colab": {}
      },
      "source": [
        "import sqlite3\n",
        "import random"
      ],
      "execution_count": 0,
      "outputs": []
    },
    {
      "cell_type": "code",
      "metadata": {
        "id": "0muLX9ZCJyBq",
        "colab_type": "code",
        "colab": {}
      },
      "source": [
        "# function: given parameters to control the number of rows per table\n",
        "#           outputs a list of SQL inserts\n",
        "\n",
        "def gen_inserts(num_rows=50, mean_birthyear=1990, regions=None, names=None, current_year=2020):\n",
        "  if regions is None:\n",
        "    regions = [\"NA\", \"SA\", \"EU\", \"AF\", \"AS\", \"OC\"]\n",
        "  if names is None:\n",
        "    names = [\"John\", \"Mary\"]\n",
        "\n",
        "  inserts = []\n",
        "  for i in range(num_rows):\n",
        "    byear = int(random.gauss(mean_birthyear, 20))\n",
        "    region = random.choice(regions)\n",
        "    name = random.choice(names)\n",
        "    age = current_year - byear\n",
        "    s1 = \"INSERT INTO Table_A VALUES (\" + str(i) + \", \" + str(byear) + \", '\" + region + \"');\"\n",
        "    s2 = \"INSERT INTO Table_B VALUES (\" + str(i) + \", '\" + name + \"', \" + str(age) + \");\"\n",
        "    inserts.append(s1)\n",
        "    inserts.append(s2)\n",
        "  return inserts"
      ],
      "execution_count": 0,
      "outputs": []
    },
    {
      "cell_type": "code",
      "metadata": {
        "id": "Dy5VLCrCq-oI",
        "colab_type": "code",
        "outputId": "aa722b1f-ccaa-4951-bee8-62c207889e30",
        "colab": {
          "base_uri": "https://localhost:8080/",
          "height": 357
        }
      },
      "source": [
        "# test insert generation\n",
        "\n",
        "inserts = gen_inserts(10)\n",
        "for ins in inserts:\n",
        "  print(ins)"
      ],
      "execution_count": 0,
      "outputs": [
        {
          "output_type": "stream",
          "text": [
            "INSERT INTO Table_A VALUES (0, 2026, 'OC');\n",
            "INSERT INTO Table_B VALUES (0, 'Mary', -6);\n",
            "INSERT INTO Table_A VALUES (1, 1974, 'NA');\n",
            "INSERT INTO Table_B VALUES (1, 'Mary', 46);\n",
            "INSERT INTO Table_A VALUES (2, 1973, 'OC');\n",
            "INSERT INTO Table_B VALUES (2, 'John', 47);\n",
            "INSERT INTO Table_A VALUES (3, 1989, 'NA');\n",
            "INSERT INTO Table_B VALUES (3, 'John', 31);\n",
            "INSERT INTO Table_A VALUES (4, 1987, 'AS');\n",
            "INSERT INTO Table_B VALUES (4, 'John', 33);\n",
            "INSERT INTO Table_A VALUES (5, 1994, 'OC');\n",
            "INSERT INTO Table_B VALUES (5, 'Mary', 26);\n",
            "INSERT INTO Table_A VALUES (6, 1974, 'AS');\n",
            "INSERT INTO Table_B VALUES (6, 'Mary', 46);\n",
            "INSERT INTO Table_A VALUES (7, 1999, 'SA');\n",
            "INSERT INTO Table_B VALUES (7, 'John', 21);\n",
            "INSERT INTO Table_A VALUES (8, 1948, 'SA');\n",
            "INSERT INTO Table_B VALUES (8, 'John', 72);\n",
            "INSERT INTO Table_A VALUES (9, 1991, 'EU');\n",
            "INSERT INTO Table_B VALUES (9, 'Mary', 29);\n"
          ],
          "name": "stdout"
        }
      ]
    },
    {
      "cell_type": "code",
      "metadata": {
        "id": "eP9B241EKIG2",
        "colab_type": "code",
        "colab": {}
      },
      "source": [
        "# function: given a number of queries to generate and distribution parameters,\n",
        "#           outputs a list of SQL Select queries\n",
        "\n",
        "# returns list of queries with the formats: \n",
        "# a) SELECT * FROM Table_A WHERE conditions\n",
        "# b) SELECT * FROM Table_B WHERE conditions\n",
        "# c) SELECT * FROM Table_A JOIN Table_B ON Table_A.PersonID=TableB.PersonID WHERE conditions \n",
        "def gen_queries(num_queries=10, mean_birthyear=1990, regions=None, names=None, current_year=2020):\n",
        "  if regions is None:\n",
        "    regions = [\"NA\", \"SA\", \"EU\", \"AF\", \"AS\", \"OC\"]\n",
        "  if names is None:\n",
        "    names = [\"John\", \"Mary\"]\n",
        "\n",
        "  queries = []\n",
        "  counts = []\n",
        "\n",
        "  for i in range(num_queries):\n",
        "    query_format = random.choice(['a', 'b', 'c'])\n",
        "    if query_format is 'a':\n",
        "      q = \"SELECT COUNT(*) FROM Table_B\"\n",
        "      cond1 = random.choice([True, False])\n",
        "      cond2 = random.choice([True, False])\n",
        "      if cond1:\n",
        "        op = random.choice(['=', '>', '<'])\n",
        "        year = int(random.gauss(mean_birthyear, 20))\n",
        "        q = q + \" WHERE Birthyear\" + op + str(year)\n",
        "      if cond2:\n",
        "        if cond1:\n",
        "          q = q + \" AND\"\n",
        "        else:\n",
        "          q = q + \" WHERE\"\n",
        "        region = random.choice(regions)\n",
        "        q = q + \" Region='\" + region + \"'\"\n",
        "      q = q + \";\"\n",
        "      queries.append(q)\n",
        "    \n",
        "    elif query_format is 'b':\n",
        "      q = \"SELECT COUNT(*) FROM Table_B\"\n",
        "      cond1 = random.choice([True, False])\n",
        "      cond2 = random.choice([True, False])\n",
        "      if cond1:\n",
        "        name = random.choice(names)\n",
        "        q = q + \" WHERE Name='\" + name + \"'\"\n",
        "      if cond2:\n",
        "        if cond1:\n",
        "          q = q + \" AND\"\n",
        "        else:\n",
        "          q = q + \" WHERE\"\n",
        "        op = random.choice(['=', '>', '<'])\n",
        "        age = current_year - int(random.gauss(mean_birthyear, 20))\n",
        "        q = q + \" Age\" + op + str(age)\n",
        "      q = q + \";\"\n",
        "      queries.append(q)\n",
        "\n",
        "    else:\n",
        "      q = \"SELECT COUNT(*) FROM Table_A JOIN Table_B ON Table_A.PersonID=Table_B.PersonId\"\n",
        "      cond1 = random.choice([True, False])\n",
        "      cond2 = random.choice([True, False])\n",
        "      cond3 = random.choice([True, False])\n",
        "      cond4 = random.choice([True, False])\n",
        "      if cond1:\n",
        "        op = random.choice(['=', '>', '<'])\n",
        "        year = int(random.gauss(mean_birthyear, 20))\n",
        "        q = q + \" WHERE Birthyear\" + op + str(year)\n",
        "      if cond2:\n",
        "        if cond1:\n",
        "          q = q + \" AND\"\n",
        "        else:\n",
        "          q = q + \" WHERE\"\n",
        "        region = random.choice(regions)\n",
        "        q = q + \" Region='\" + region + \"'\"\n",
        "      if cond3:\n",
        "        if cond1 or cond2:\n",
        "          q = q + \" AND\"\n",
        "        else:\n",
        "          q = q + \" WHERE\"\n",
        "        name = random.choice(names)\n",
        "        q = q + \" Name='\" + name + \"'\"\n",
        "      if cond4:\n",
        "        if cond1 or cond2 or cond3:\n",
        "          q = q + \" AND\"\n",
        "        else:\n",
        "          q = q + \" WHERE\"\n",
        "        op = random.choice(['=', '>', '<'])\n",
        "        age = current_year - int(random.gauss(mean_birthyear, 20))\n",
        "        q = q + \" Age\" + op + str(age)\n",
        "      queries.append(q)\n",
        "  return queries"
      ],
      "execution_count": 0,
      "outputs": []
    },
    {
      "cell_type": "code",
      "metadata": {
        "id": "jcEn6VkbrZz5",
        "colab_type": "code",
        "outputId": "d939884c-35ba-40a1-a1ad-342906db2171",
        "colab": {
          "base_uri": "https://localhost:8080/",
          "height": 187
        }
      },
      "source": [
        "# test query generation\n",
        "\n",
        "queries = gen_queries(10)\n",
        "for q in queries:\n",
        "  print(q)"
      ],
      "execution_count": 0,
      "outputs": [
        {
          "output_type": "stream",
          "text": [
            "SELECT COUNT(*) FROM Table_B WHERE Name='John' AND Age<47;\n",
            "SELECT COUNT(*) FROM Table_B WHERE Name='John';\n",
            "SELECT COUNT(*) FROM Table_B;\n",
            "SELECT COUNT(*) FROM Table_A JOIN Table_B ON Table_A.PersonID=Table_B.PersonId WHERE Region='OC' AND Age=8\n",
            "SELECT COUNT(*) FROM Table_A JOIN Table_B ON Table_A.PersonID=Table_B.PersonId WHERE Region='AF' AND Name='John'\n",
            "SELECT COUNT(*) FROM Table_B WHERE Name='Mary';\n",
            "SELECT COUNT(*) FROM Table_A JOIN Table_B ON Table_A.PersonID=Table_B.PersonId WHERE Birthyear>1973 AND Region='EU' AND Name='Mary'\n",
            "SELECT COUNT(*) FROM Table_B WHERE Name='John';\n",
            "SELECT COUNT(*) FROM Table_A JOIN Table_B ON Table_A.PersonID=Table_B.PersonId WHERE Birthyear=1963 AND Region='AS'\n",
            "SELECT COUNT(*) FROM Table_B WHERE Name='John';\n"
          ],
          "name": "stdout"
        }
      ]
    },
    {
      "cell_type": "code",
      "metadata": {
        "id": "pxv6yHXnqNNS",
        "colab_type": "code",
        "colab": {}
      },
      "source": [
        "# function: given an input list of SQL inserts and SQL COUNT queries,\n",
        "#           initialize and construct a database from those statements,\n",
        "#           run given queries on that database,\n",
        "#           outputs a list of cardinalities per COUNT query\n",
        "\n",
        "def run_queries(inserts, queries):\n",
        "  connection = sqlite3.connect(\"sqlite.db\")\n",
        "  crsr = connection.cursor()\n",
        "\n",
        "  crsr.execute(\"CREATE TABLE Table_A (PersonID int, Birthyear int, Region varchar(255));\")\n",
        "  crsr.execute(\"CREATE TABLE Table_B (PersonID int, Name varchar(255), Age int);\")\n",
        "  connection.commit()\n",
        "  \n",
        "  for ins in inserts:\n",
        "    crsr.execute(ins)\n",
        "  connection.commit()\n",
        "\n",
        "  counts = []\n",
        "\n",
        "  for q in queries:\n",
        "    crsr.execute(q)\n",
        "    ans =  crsr.fetchall()\n",
        "    counts.append(ans)\n",
        "\n",
        "  crsr.execute(\"DROP TABLE Table_A;\")\n",
        "  crsr.execute(\"DROP TABLE Table_B;\")\n",
        "  connection.commit()\n",
        "  connection.close()\n",
        "  return counts"
      ],
      "execution_count": 0,
      "outputs": []
    },
    {
      "cell_type": "code",
      "metadata": {
        "id": "7wQ13CLLt3iq",
        "colab_type": "code",
        "outputId": "4df49bc5-c2ab-476e-e862-91df5c37ee0e",
        "colab": {
          "base_uri": "https://localhost:8080/",
          "height": 187
        }
      },
      "source": [
        "# test running queries in sqlite\n",
        "\n",
        "counts = run_queries(inserts, queries)\n",
        "\n",
        "for c in counts:\n",
        "  print(c)"
      ],
      "execution_count": 0,
      "outputs": [
        {
          "output_type": "stream",
          "text": [
            "[(3,)]\n",
            "[(5,)]\n",
            "[(10,)]\n",
            "[(0,)]\n",
            "[(0,)]\n",
            "[(5,)]\n",
            "[(1,)]\n",
            "[(5,)]\n",
            "[(0,)]\n",
            "[(5,)]\n"
          ],
          "name": "stdout"
        }
      ]
    },
    {
      "cell_type": "markdown",
      "metadata": {
        "id": "N47cwHTygkH0",
        "colab_type": "text"
      },
      "source": [
        "Each word (or token) in a SQL statement will be embedded in a single 72-dimensional vector for input to the model.\n",
        "\n",
        "<center>\n",
        "<img src=\"https://raw.githubusercontent.com/Btsan/personal/master/Picture2.png\">\n",
        "<b>Figure:</b>\n",
        "<i>SQL Keywords and operators are one-hot encoded. Database objects, such as tables and their attributes are multi-hot encoded. Strings are hashed by their character content. Numerical values are normalized by the mean of their respective attribute. The final embedded vector is the concatenation of all these features, so it will be considerably sparse.</i>\n",
        "</center>"
      ]
    }
  ]
}